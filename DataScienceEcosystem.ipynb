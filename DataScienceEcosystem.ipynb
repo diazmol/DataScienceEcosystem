{
 "cells": [
  {
   "cell_type": "markdown",
   "id": "07d2f83b-e266-4abb-b43f-7b9165f932c8",
   "metadata": {},
   "source": [
    "# Data Science Tools and Ecosystem"
   ]
  },
  {
   "cell_type": "markdown",
   "id": "8fa6df82-28b3-4eb1-9acf-0d39b3b3d620",
   "metadata": {},
   "source": [
    "In this notebook, Data Science Tools and Ecosystem are summarized."
   ]
  },
  {
   "cell_type": "markdown",
   "id": "8f9f0e37-193e-4767-8fca-808c70508da8",
   "metadata": {},
   "source": [
    "**Objetivos**\n",
    "- List popular languages for Data Science\n",
    "- List commonly used libraries in Data Science\n",
    "- Create a table for open-source Data Science tools\n",
    "- Demonstrate simple arithmetic expressions in Python\n",
    "- Convert time units from minutes to hours"
   ]
  },
  {
   "cell_type": "markdown",
   "id": "a68b6138-3dca-48f0-b4ce-da02cd101532",
   "metadata": {},
   "source": [
    "Some of the popular languages that Data Scientists use are:\n",
    "\n",
    "1. Python\n",
    "2. R\n",
    "3. SQL\n",
    "4. Julia\n",
    "5. Scala"
   ]
  },
  {
   "cell_type": "markdown",
   "id": "649e0a88-eacf-44cc-bce4-785de09f1828",
   "metadata": {},
   "source": [
    "Some of the commonly used libraries used by Data Scientists include:\n",
    "\n",
    "1. Pandas\n",
    "2. NumPy\n",
    "3. Matplotlib\n",
    "4. Scikit-learn\n",
    "5. TensorFlow"
   ]
  },
  {
   "cell_type": "code",
   "execution_count": null,
   "id": "26a29e17-d465-4a1e-a711-025114a7f5ef",
   "metadata": {},
   "outputs": [],
   "source": []
  },
  {
   "cell_type": "markdown",
   "id": "94f54a8e-47a3-4597-9240-456031f099fd",
   "metadata": {},
   "source": [
    "|Data Science Tools|\n",
    "|------------------|\n",
    "|Jupyper Notebbok|\n",
    "|Rstudio|\n",
    "|Apache Zepellin|"
   ]
  },
  {
   "cell_type": "markdown",
   "id": "f157e231-d647-4ea9-ad79-545ad6e03f09",
   "metadata": {},
   "source": [
    "### Below are a few examples of evaluating arithmetic expressions in Python"
   ]
  },
  {
   "cell_type": "code",
   "execution_count": 3,
   "id": "ebefa06c-de63-4f58-a564-1b427541830b",
   "metadata": {},
   "outputs": [
    {
     "data": {
      "text/plain": [
       "17"
      ]
     },
     "execution_count": 3,
     "metadata": {},
     "output_type": "execute_result"
    }
   ],
   "source": [
    "(3*4)+5"
   ]
  },
  {
   "cell_type": "markdown",
   "id": "dc2e583f-d724-4f12-8de5-cc09d6831076",
   "metadata": {},
   "source": [
    "This a simple arithmetic expression to mutiply then add integers"
   ]
  },
  {
   "cell_type": "markdown",
   "id": "b52d056d-073d-4963-9eae-68a9a5b2e3eb",
   "metadata": {},
   "source": [
    "En la siguiente celda de código, se escrira una expresión que que convierta 200 minutesen hours."
   ]
  },
  {
   "cell_type": "code",
   "execution_count": 4,
   "id": "ba4127c1-b31f-472c-b7b4-8be529711e0c",
   "metadata": {},
   "outputs": [
    {
     "data": {
      "text/plain": [
       "3.3333333333333335"
      ]
     },
     "execution_count": 4,
     "metadata": {},
     "output_type": "execute_result"
    }
   ],
   "source": [
    "(200/60)"
   ]
  },
  {
   "cell_type": "markdown",
   "id": "d5f703e4-1a9d-470d-8f43-011bff8cf643",
   "metadata": {},
   "source": [
    "This will convert 200 minutes to hours by diving by 60"
   ]
  },
  {
   "cell_type": "markdown",
   "id": "fb4ebb84-a97f-4e14-8f9f-28274abd35a5",
   "metadata": {},
   "source": [
    "## Author\n",
    "\n",
    "Guillermo Diaz Mol"
   ]
  }
 ],
 "metadata": {
  "kernelspec": {
   "display_name": "Python 3 (ipykernel)",
   "language": "python",
   "name": "python3"
  },
  "language_info": {
   "codemirror_mode": {
    "name": "ipython",
    "version": 3
   },
   "file_extension": ".py",
   "mimetype": "text/x-python",
   "name": "python",
   "nbconvert_exporter": "python",
   "pygments_lexer": "ipython3",
   "version": "3.11.9"
  }
 },
 "nbformat": 4,
 "nbformat_minor": 5
}
